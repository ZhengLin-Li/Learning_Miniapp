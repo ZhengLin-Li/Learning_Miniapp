{
 "cells": [
  {
   "cell_type": "markdown",
   "metadata": {},
   "source": [
    "# Meeting Rooms II\n",
    "\n",
    "## Description\n",
    "\n",
    "Given an array of meeting time intervals consisting of start and end times [[s1,e1],[s2,e2],...] (si < ei), find the minimum number of conference rooms required.\n",
    "\n",
    "## Example\n",
    "\n",
    "Example1\n",
    "Input: intervals = [(0,30),(5,10),(15,20)]\n",
    "Output: 2\n",
    "Explanation:\n",
    "We need two meeting rooms\n",
    "room1: (0,30)\n",
    "room2: (5,10),(15,20)\n",
    "\n",
    "Example2\n",
    "Input: intervals = [(2,7)]\n",
    "Output: 1\n",
    "Explanation: \n",
    "Only need one meeting room"
   ]
  },
  {
   "cell_type": "code",
   "execution_count": 128,
   "metadata": {},
   "outputs": [
    {
     "name": "stdout",
     "output_type": "stream",
     "text": [
      "[(1, 5), (2, 3), (4, 8), (6, 7)]\n"
     ]
    }
   ],
   "source": [
    "intervals = [(2,3),(1,5),(6,7),(4,8)]\n",
    "intervals.sort()\n",
    "print(intervals)"
   ]
  },
  {
   "cell_type": "code",
   "execution_count": 129,
   "metadata": {},
   "outputs": [
    {
     "name": "stdout",
     "output_type": "stream",
     "text": [
      "interval: (2, 3)\n",
      "min_heap: [3, 5]\n",
      "\n",
      "interval: (4, 8)\n",
      "min_heap: [5, 8]\n",
      "\n",
      "interval: (6, 7)\n",
      "min_heap: [7, 8]\n",
      "\n",
      "2\n"
     ]
    }
   ],
   "source": [
    "import heapq\n",
    "from typing import List\n",
    "\n",
    "# correct solution\n",
    "class Solution:\n",
    "    def min_meeting_rooms(self, intervals: List[List[int]]) -> int:\n",
    "        intervals.sort(key=lambda x:(x[0], x[1]))\n",
    "        min_heap = [intervals[0][1]]\n",
    "\n",
    "        for interval in intervals[1:]:\n",
    "            start, end = interval[0], interval[1]\n",
    "            if start >= min_heap[0]:\n",
    "                heapq.heappop(min_heap)\n",
    "            heapq.heappush(min_heap, end)\n",
    "\n",
    "            # print relevant information\n",
    "            print(f\"interval: {interval}\")\n",
    "            print(f\"min_heap: {min_heap}\")\n",
    "            print()\n",
    "\n",
    "        return len(min_heap)\n",
    "\n",
    "sol = Solution()\n",
    "print(sol.min_meeting_rooms(intervals))"
   ]
  },
  {
   "cell_type": "code",
   "execution_count": 130,
   "metadata": {},
   "outputs": [
    {
     "name": "stdout",
     "output_type": "stream",
     "text": [
      "interval: (1, 5)\n",
      "min_heap: [3, 5]\n",
      "\n",
      "interval: (6, 7)\n",
      "min_heap: [5, 7]\n",
      "\n",
      "interval: (4, 8)\n",
      "min_heap: [5, 7, 8]\n",
      "\n",
      "3\n"
     ]
    }
   ],
   "source": [
    "import heapq\n",
    "from typing import List\n",
    "\n",
    "# wrong solution\n",
    "class Solution:\n",
    "    def min_meeting_rooms(self, intervals: List[List[int]]) -> int:\n",
    "        intervals.sort(key=lambda x:(x[1], x[0]))\n",
    "        min_heap = [intervals[0][1]]\n",
    "\n",
    "        for interval in intervals[1:]:\n",
    "            start, end = interval[0], interval[1]\n",
    "            if start >= min_heap[0]:\n",
    "                heapq.heappop(min_heap)\n",
    "            heapq.heappush(min_heap, end)\n",
    "\n",
    "            # print relevant information\n",
    "            print(f\"interval: {interval}\")\n",
    "            print(f\"min_heap: {min_heap}\")\n",
    "            print()\n",
    "\n",
    "        return len(min_heap)\n",
    "\n",
    "sol = Solution()\n",
    "print(sol.min_meeting_rooms(intervals))"
   ]
  }
 ],
 "metadata": {
  "language_info": {
   "name": "python"
  }
 },
 "nbformat": 4,
 "nbformat_minor": 2
}
